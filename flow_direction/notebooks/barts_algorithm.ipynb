{
 "cells": [
  {
   "cell_type": "markdown",
   "id": "44e8a6e0-eb0f-4619-ad6a-74079896303e",
   "metadata": {},
   "source": [
    "# A simple algorithm for generating streamflow networks for grid‐based, macroscale hydrological models\n",
    "https://doi.org/10.1002/(SICI)1099-1085(19990615)13:8%3C1269::AID-HYP806%3E3.0.CO;2-R\n",
    "\n",
    "A simple algorithm for generating streamflow networks for macroscale hydrological models (MHMs) from digital elevation models (DEMs) is presented. Typically these hydrological models are grid based, with the simulated runoff produced within each cell routed through a stream network which connects the centers of cells in the direction of the major streams. Construction of such stream networks is a time consuming task, which has generally been done by hand with the aid of maps. Results indicate that the algorithm works satisfactorily in areas of both high and low relief, and for a wide range of model cell resolutions, although some manual adjustments may be necessary."
   ]
  },
  {
   "cell_type": "code",
   "execution_count": 276,
   "id": "9b29624e-e44d-4912-81aa-989858fd584f",
   "metadata": {},
   "outputs": [],
   "source": [
    "import rasterio as rio\n",
    "from rasterio.plot import show\n",
    "import geopandas as gpd\n",
    "import matplotlib.pyplot as plt\n",
    "import os\n",
    "from rasterio import mask\n",
    "from tqdm import notebook"
   ]
  },
  {
   "cell_type": "code",
   "execution_count": 207,
   "id": "38c0cde0-355c-457e-beef-9b0890bbfc1e",
   "metadata": {},
   "outputs": [
    {
     "data": {
      "image/png": "[encoded data removed]",
      "text/plain": [
       "<Figure size 432x288 with 1 Axes>"
      ]
     },
     "metadata": {
      "needs_background": "light"
     },
     "output_type": "display_data"
    },
    {
     "data": {
      "text/plain": [
       "<AxesSubplot:>"
      ]
     },
     "execution_count": 207,
     "metadata": {},
     "output_type": "execute_result"
    }
   ],
   "source": [
    "flowacc_path = '../data_nongit/mekong_flowaccumulation.tif'\n",
    "flowacc_rast = rio.open(flowacc_path)\n",
    "\n",
    "flowacc = flowacc_rast.read(1)\n",
    "show(flowacc_rast)"
   ]
  },
  {
   "cell_type": "code",
   "execution_count": 203,
   "id": "76af30d6-340c-4016-9ce2-1d0b027caefc",
   "metadata": {},
   "outputs": [
    {
     "data": {
      "text/plain": [
       "<matplotlib.lines.Line2D at 0x7fbc992c13d0>"
      ]
     },
     "execution_count": 203,
     "metadata": {},
     "output_type": "execute_result"
    },
    {
     "data": {
      "image/png": "[encoded data removed]",
      "text/plain": [
       "<Figure size 432x288 with 1 Axes>"
      ]
     },
     "metadata": {
      "needs_background": "light"
     },
     "output_type": "display_data"
    }
   ],
   "source": [
    "# plt.imshow(flowacc == flowacc.max())   # As predicted, the highest accumulation pixel is at the edge.\n",
    "# yleft, yright = flowacc.shape[0]/3, flowacc.shape[0]*2/3\n",
    "# xup, xbot = flowacc.shape[1]/3, flowacc.shape[1]*2/3\n",
    "# plt.axvline(yleft, color='red')\n",
    "# plt.axvline(yright, color='red')\n",
    "# plt.axhline(xup, color='red')\n",
    "# plt.axhline(xbot, color='red')"
   ]
  },
  {
   "cell_type": "code",
   "execution_count": 269,
   "id": "14397644-f351-4ec7-9930-efc491529422",
   "metadata": {},
   "outputs": [],
   "source": [
    "class GridCell:\n",
    "    def __init__(self, geom, rast):\n",
    "        \"\"\"\n",
    "        geom is a geopandas object, single polygon which can be used to clip rasters\n",
    "        rast is a rasterio raster object\n",
    "        \"\"\"\n",
    "        self._geom = geom[\"geometry\"]\n",
    "        self._id = geom.name\n",
    "        \n",
    "        self.src = rast\n",
    "\n",
    "        self.clipped = self.clip()\n",
    "        \n",
    "        self.edges = (0, self.clipped.shape[0]-1, self.clipped.shape[1]-1)\n",
    "        \n",
    "        self.exit = self.where()\n",
    "        \n",
    "        \n",
    "    def clip(self, write=False, savepath=None):\n",
    "        masked_band, masked_transform = mask.mask(self.src, [self._geom], crop=True)\n",
    "\n",
    "        return masked_band[0]\n",
    "    \n",
    "    def where(self):\n",
    "        wh = np.where(self.clipped == self.clipped.max())\n",
    "        return wh[0][0], wh[1][0]\n",
    "    \n",
    "    def clean(self):\n",
    "        os.remove(self.clipped)\n",
    "    \n",
    "    def clean_exit(self):\n",
    "        return (self.exit[0] in self.edges) or (self.exit[1] in self.edges)\n",
    "\n",
    "class Basin:\n",
    "    def __init__(self, path):\n",
    "        self._path = path\n",
    "        \n",
    "        self._gdf = gpd.read_file(path)\n",
    "        print(self._gdf.head())\n",
    "        \n",
    "    def __str__(self):\n",
    "        return f\"Basin<{os.path.split(self._path)[-1]} : {self._gdf.shape[0]} features>\"\n",
    "    \n",
    "    def __repr__(self):\n",
    "        return self.__str__()"
   ]
  },
  {
   "cell_type": "code",
   "execution_count": 279,
   "id": "c979443d-2c06-4bad-be1e-a56d6839d0b0",
   "metadata": {},
   "outputs": [
    {
     "data": {
      "application/vnd.jupyter.widget-view+json": {
       "model_id": "d3f7091bcca24acc82889b5e49f79bfe",
       "version_major": 2,
       "version_minor": 0
      },
      "text/plain": [
       "  0%|          | 0/18217 [00:00<?, ?it/s]"
      ]
     },
     "metadata": {},
     "output_type": "display_data"
    },
    {
     "name": "stderr",
     "output_type": "stream",
     "text": [
      "IOPub message rate exceeded.\n",
      "The Jupyter server will temporarily stop sending output\n",
      "to the client in order to avoid crashing it.\n",
      "To change this limit, set the config variable\n",
      "`--ServerApp.iopub_msg_rate_limit`.\n",
      "\n",
      "Current values:\n",
      "ServerApp.iopub_msg_rate_limit=1000.0 (msgs/sec)\n",
      "ServerApp.rate_limit_window=3.0 (secs)\n",
      "\n"
     ]
    }
   ],
   "source": [
    "exits = {\n",
    "    'i': [],\n",
    "    'x': [],\n",
    "    'y': [],\n",
    "    'clean_exit': []\n",
    "}\n",
    "\n",
    "with notebook.tqdm(total=gdf.shape[0]) as pbar:\n",
    "    for i in range(gdf.shape[0]):\n",
    "        gc = GridCell(gdf.iloc[i, :], flowacc_rast)\n",
    "        exits['i'].append(i)\n",
    "        exits['x'].append(gc.exit[0])\n",
    "        exits['y'].append(gc.exit[1])\n",
    "        exits['clean_exit'].append(gc.clean_exit())\n",
    "        pbar.update(1)\n",
    "        pbar.set_description(f'{i:05}: ({gc.exit[0]:03}, {gc.exit[1]:03}): {gc.clean_exit()}')"
   ]
  },
  {
   "cell_type": "code",
   "execution_count": 280,
   "id": "1993d769-a30a-467c-b32d-ffd8c8e2ae24",
   "metadata": {},
   "outputs": [
    {
     "data": {
      "text/html": [
       "<div>\n",
       "<style scoped>\n",
       "    .dataframe tbody tr th:only-of-type {\n",
       "        vertical-align: middle;\n",
       "    }\n",
       "\n",
       "    .dataframe tbody tr th {\n",
       "        vertical-align: top;\n",
       "    }\n",
       "\n",
       "    .dataframe thead th {\n",
       "        text-align: right;\n",
       "    }\n",
       "</style>\n",
       "<table border=\"1\" class=\"dataframe\">\n",
       "  <thead>\n",
       "    <tr style=\"text-align: right;\">\n",
       "      <th></th>\n",
       "      <th>i</th>\n",
       "      <th>x</th>\n",
       "      <th>y</th>\n",
       "      <th>clean_exit</th>\n",
       "    </tr>\n",
       "  </thead>\n",
       "  <tbody>\n",
       "    <tr>\n",
       "      <th>0</th>\n",
       "      <td>0</td>\n",
       "      <td>70</td>\n",
       "      <td>74</td>\n",
       "      <td>True</td>\n",
       "    </tr>\n",
       "    <tr>\n",
       "      <th>1</th>\n",
       "      <td>1</td>\n",
       "      <td>68</td>\n",
       "      <td>44</td>\n",
       "      <td>False</td>\n",
       "    </tr>\n",
       "    <tr>\n",
       "      <th>2</th>\n",
       "      <td>2</td>\n",
       "      <td>31</td>\n",
       "      <td>0</td>\n",
       "      <td>True</td>\n",
       "    </tr>\n",
       "    <tr>\n",
       "      <th>3</th>\n",
       "      <td>3</td>\n",
       "      <td>49</td>\n",
       "      <td>57</td>\n",
       "      <td>False</td>\n",
       "    </tr>\n",
       "    <tr>\n",
       "      <th>4</th>\n",
       "      <td>4</td>\n",
       "      <td>44</td>\n",
       "      <td>45</td>\n",
       "      <td>False</td>\n",
       "    </tr>\n",
       "  </tbody>\n",
       "</table>\n",
       "</div>"
      ],
      "text/plain": [
       "   i   x   y  clean_exit\n",
       "0  0  70  74        True\n",
       "1  1  68  44       False\n",
       "2  2  31   0        True\n",
       "3  3  49  57       False\n",
       "4  4  44  45       False"
      ]
     },
     "execution_count": 280,
     "metadata": {},
     "output_type": "execute_result"
    }
   ],
   "source": [
    "import pandas as pd\n",
    "\n",
    "df = pd.DataFrame(exits)\n",
    "df.head()"
   ]
  },
  {
   "cell_type": "code",
   "execution_count": 283,
   "id": "59229955-fcad-4893-b298-a92816810470",
   "metadata": {},
   "outputs": [
    {
     "data": {
      "text/html": [
       "<div>\n",
       "<style scoped>\n",
       "    .dataframe tbody tr th:only-of-type {\n",
       "        vertical-align: middle;\n",
       "    }\n",
       "\n",
       "    .dataframe tbody tr th {\n",
       "        vertical-align: top;\n",
       "    }\n",
       "\n",
       "    .dataframe thead th {\n",
       "        text-align: right;\n",
       "    }\n",
       "</style>\n",
       "<table border=\"1\" class=\"dataframe\">\n",
       "  <thead>\n",
       "    <tr style=\"text-align: right;\">\n",
       "      <th></th>\n",
       "      <th>i</th>\n",
       "      <th>x</th>\n",
       "      <th>y</th>\n",
       "    </tr>\n",
       "    <tr>\n",
       "      <th>clean_exit</th>\n",
       "      <th></th>\n",
       "      <th></th>\n",
       "      <th></th>\n",
       "    </tr>\n",
       "  </thead>\n",
       "  <tbody>\n",
       "    <tr>\n",
       "      <th>False</th>\n",
       "      <td>337</td>\n",
       "      <td>337</td>\n",
       "      <td>337</td>\n",
       "    </tr>\n",
       "    <tr>\n",
       "      <th>True</th>\n",
       "      <td>17880</td>\n",
       "      <td>17880</td>\n",
       "      <td>17880</td>\n",
       "    </tr>\n",
       "  </tbody>\n",
       "</table>\n",
       "</div>"
      ],
      "text/plain": [
       "                i      x      y\n",
       "clean_exit                     \n",
       "False         337    337    337\n",
       "True        17880  17880  17880"
      ]
     },
     "execution_count": 283,
     "metadata": {},
     "output_type": "execute_result"
    }
   ],
   "source": [
    "df.groupby('clean_exit').count()"
   ]
  },
  {
   "cell_type": "code",
   "execution_count": null,
   "id": "40db0768-92eb-4e8f-ab2a-3c60ae2074e6",
   "metadata": {},
   "outputs": [],
   "source": []
  }
 ],
 "metadata": {
  "kernelspec": {
   "display_name": "Python 3",
   "language": "python",
   "name": "python3"
  },
  "language_info": {
   "codemirror_mode": {
    "name": "ipython",
    "version": 3
   },
   "file_extension": ".py",
   "mimetype": "text/x-python",
   "name": "python",
   "nbconvert_exporter": "python",
   "pygments_lexer": "ipython3",
   "version": "3.7.7"
  }
 },
 "nbformat": 4,
 "nbformat_minor": 5
}
