{
 "cells": [
  {
   "cell_type": "markdown",
   "metadata": {},
   "source": [
    "# K-means clustering - Homework\n",
    "\n",
    "In the tutorial, we have seen how to choose the number of clusters using the elbow method. However, we have also noticed that it does not always work very well. Let us study another method based on the prediction strength.\n",
    "\n",
    "To know more about it, you can read the paper: Tibshirani, R. and Walther, G. (2005) Cluster validation by prediction strength. Journal of Computational and Graphical Statistics 14(3):511-528.\n",
    "\n",
    "In this homework, we are going to  use the function KMeans from the SciKitLearn package. See here for the documentation:\n",
    "\n",
    "https://scikit-learn.org/stable/modules/generated/sklearn.cluster.KMeans.html#sklearn.cluster.KMeans"
   ]
  },
  {
   "cell_type": "markdown",
   "metadata": {},
   "source": [
    "## Prediction strength\n",
    "\n",
    "Suppose we have a dataset of $X = \\left\\{ x_{i , j} \\right\\}$ of $n$ observations of $d$-dimensional variables. Let us divide these observations into a train set $X_{tr}$ and a test set $X_{te}$ of size $n_{tr}$ and $n_{te}$ respectively.\n",
    "\n",
    "Let us choose the number of clusters $k$, and apply clustering to both the training data and the test data independently.\n",
    "\n",
    "Let us now denote $A_{1} , A_{2} , \\cdots , A_{k}$ the indices of the test observations in the test clusters $1 , 2 , \\cdots , k$, and $n_{1} , n_{2} , \\cdots , n_{k}$ the number of observations in these clusters.\n",
    "\n",
    "We now consider the clusters obtained with the training data, and denote this classifying operation $C \\left( X_{tr} \\right)$. We now apply this classifying operation to the test set. \n",
    "\n",
    "Let us now denote $D_j \\left[ C \\left( X_{tr} , k \\right) , X_{te} \\right]$ the $n_{te}$ by $n_{te}$ matrix which $i i'$ element $D_j \\left[ C \\left( X_{tr} , k \\right) , X_{te} \\right] _{i i'}$ is equal to $1$ if observations $i$ and $i'$ from the $j$th cluster of the test set fall into the same training set cluster, and $0$ otherwise. The prediction strength is then defined by:\n",
    "\n",
    "$ps \\left( k \\right) = \\min_{ 1 \\leq j \\leq k} \\frac{1}{n_{j} \\left( n_{j } - 1 \\right)} \\sum_{i \\neq i' \\in A_{j}} D_j \\left[ C \\left( X_{tr} , k \\right) , X_{te} \\right] _{i i'}$ (**eq 1**)"
   ]
  },
  {
   "cell_type": "markdown",
   "metadata": {},
   "source": [
    "## Data gathering and cleaning"
   ]
  },
  {
   "cell_type": "markdown",
   "metadata": {},
   "source": [
    "Import useful Python packages"
   ]
  },
  {
   "cell_type": "code",
   "execution_count": 74,
   "metadata": {},
   "outputs": [],
   "source": [
    "import matplotlib.pyplot as plt\n",
    "import numpy as np\n",
    "import pandas as pd\n",
    "import random\n",
    "from math import cos, sin, pi, sqrt\n",
    "from mpl_toolkits.mplot3d import Axes3D\n",
    "from sklearn import preprocessing\n",
    "from sklearn.cluster import KMeans\n",
    "from sklearn.decomposition import PCA"
   ]
  },
  {
   "cell_type": "markdown",
   "metadata": {},
   "source": [
    "Set seed for reproducibility"
   ]
  },
  {
   "cell_type": "code",
   "execution_count": 75,
   "metadata": {},
   "outputs": [],
   "source": [
    "random.seed(0)"
   ]
  },
  {
   "cell_type": "markdown",
   "metadata": {},
   "source": [
    "Import data from the PNSN earthquake catalog."
   ]
  },
  {
   "cell_type": "code",
   "execution_count": 76,
   "metadata": {},
   "outputs": [],
   "source": [
    "catalog = pd.read_csv('pnsn_catalog.csv')\n",
    "catalog.drop(columns=['Evid', 'Magnitude', 'Magnitude Type', 'Epoch(UTC)', 'Time UTC', 'Time Local', 'Distance From', 'Depth Mi'], inplace=True)\n",
    "catalog.columns = ['latitude', 'longitude', 'depth']"
   ]
  },
  {
   "cell_type": "markdown",
   "metadata": {},
   "source": [
    "Apply PCA and normalization."
   ]
  },
  {
   "cell_type": "code",
   "execution_count": 77,
   "metadata": {},
   "outputs": [],
   "source": [
    "data = catalog.to_numpy()\n",
    "pca = PCA(n_components=2)\n",
    "data_pca = pca.fit_transform(data)\n",
    "scaler = preprocessing.StandardScaler().fit(data_pca)\n",
    "data_scaled = scaler.transform(data_pca)"
   ]
  },
  {
   "cell_type": "markdown",
   "metadata": {},
   "source": [
    "## Homework"
   ]
  },
  {
   "cell_type": "markdown",
   "metadata": {},
   "source": [
    "### Question 1 (1 point)\n",
    "\n",
    "Write code to divide the data into a training set and a test set of approximately the same size."
   ]
  },
  {
   "cell_type": "code",
   "execution_count": 78,
   "metadata": {},
   "outputs": [],
   "source": [
    "from sklearn.model_selection import train_test_split\n",
    "\n",
    "train, test = train_test_split(data_scaled, test_size=0.5)"
   ]
  },
  {
   "cell_type": "markdown",
   "metadata": {},
   "source": [
    "### Question 2 (2 points)\n",
    "\n",
    "For now, we choose to have k = 2 clusters.\n",
    "\n",
    "Write code to apply K-means clustering to the training set and the test set using the Kmeans function from ScikitLearn."
   ]
  },
  {
   "cell_type": "code",
   "execution_count": 79,
   "metadata": {},
   "outputs": [
    {
     "data": {
      "text/plain": [
       "KMeans(n_clusters=2)"
      ]
     },
     "execution_count": 79,
     "metadata": {},
     "output_type": "execute_result"
    }
   ],
   "source": [
    "k = 2\n",
    "model_train = KMeans(n_clusters=k)\n",
    "model_test = KMeans(n_clusters=k)\n",
    "\n",
    "model_train.fit(train)\n",
    "model_test.fit(test)"
   ]
  },
  {
   "cell_type": "markdown",
   "metadata": {},
   "source": [
    "### Question 3 (2 points)\n",
    "\n",
    "Get the clusters for the test set."
   ]
  },
  {
   "cell_type": "code",
   "execution_count": 80,
   "metadata": {},
   "outputs": [],
   "source": [
    "test_cluster_centers = model_test.cluster_centers_\n",
    "# test_clusters = model_test.fit_predict(test)\n",
    "test_clusters = model_test.labels_"
   ]
  },
  {
   "cell_type": "markdown",
   "metadata": {},
   "source": [
    "Plot the data from the test set with two different colors for the two clusters."
   ]
  },
  {
   "cell_type": "code",
   "execution_count": 81,
   "metadata": {},
   "outputs": [
    {
     "data": {
      "text/plain": [
       "<matplotlib.collections.PathCollection at 0x7fba11fb2b50>"
      ]
     },
     "execution_count": 81,
     "metadata": {},
     "output_type": "execute_result"
    },
    {
     "data": {
      "image/png": "[encoded data removed]",
      "text/plain": [
       "<Figure size 432x288 with 1 Axes>"
      ]
     },
     "metadata": {
      "needs_background": "light"
     },
     "output_type": "display_data"
    }
   ],
   "source": [
    "plt.scatter(test[:, 0], test[:, 1], c=test_clusters)\n",
    "plt.scatter(test_cluster_centers[:, 0], test_cluster_centers[:, 1], c=[\"lime\", \"red\"], marker='*', s=300)"
   ]
  },
  {
   "cell_type": "markdown",
   "metadata": {},
   "source": [
    "### Question 4 (2 points)\n",
    "\n",
    "Use the clustering and centroids from the training set to predict to which cluster the data points from the test set should belong."
   ]
  },
  {
   "cell_type": "code",
   "execution_count": 82,
   "metadata": {},
   "outputs": [],
   "source": [
    "train_cluster_centers = model_train.cluster_centers_\n",
    "predicted_clusters = model_train.predict(test)"
   ]
  },
  {
   "cell_type": "markdown",
   "metadata": {},
   "source": [
    "Plot the data from the test set with two different colors for the two clusters."
   ]
  },
  {
   "cell_type": "code",
   "execution_count": 83,
   "metadata": {},
   "outputs": [
    {
     "data": {
      "text/plain": [
       "<matplotlib.collections.PathCollection at 0x7fba11682c90>"
      ]
     },
     "execution_count": 83,
     "metadata": {},
     "output_type": "execute_result"
    },
    {
     "data": {
      "image/png": "[encoded data removed]",
      "text/plain": [
       "<Figure size 432x288 with 1 Axes>"
      ]
     },
     "metadata": {
      "needs_background": "light"
     },
     "output_type": "display_data"
    }
   ],
   "source": [
    "plt.scatter(test[:, 0], test[:, 1], c=predicted_clusters)\n",
    "plt.scatter(train_cluster_centers[:, 0], train_cluster_centers[:, 1], c=[\"lime\", \"red\"], marker='*', s=300)"
   ]
  },
  {
   "cell_type": "markdown",
   "metadata": {},
   "source": [
    "### Question 5\n",
    "\n",
    "## Prediction strength\n",
    "\n",
    "Suppose we have a dataset of $X = \\left\\{ x_{i , j} \\right\\}$ of $n$ observations of $d$-dimensional variables. Let us divide these observations into a train set $X_{tr}$ and a test set $X_{te}$ of size $n_{tr}$ and $n_{te}$ respectively.\n",
    "\n",
    "Let us choose the number of clusters $k$, and apply clustering to both the training data and the test data independently.\n",
    "\n",
    "Let us now denote $A_{1} , A_{2} , \\cdots , A_{k}$ the indices of the test observations in the test clusters $1 , 2 , \\cdots , k$, and $n_{1} , n_{2} , \\cdots , n_{k}$ the number of observations in these clusters.\n",
    "\n",
    "We now consider the clusters obtained with the training data, and denote this classifying operation $C \\left( X_{tr} \\right)$. We now apply this classifying operation to the test set. \n",
    "\n",
    "Let us now denote $D_j \\left[ C \\left( X_{tr} , k \\right) , X_{te} \\right]$ the $n_{te}$ by $n_{te}$ matrix which $i i'$ element $D_j \\left[ C \\left( X_{tr} , k \\right) , X_{te} \\right] _{i i'}$ is equal to $1$ if observations $i$ and $i'$ from the $j$th cluster of the test set fall into the same training set cluster, and $0$ otherwise. The prediction strength is then defined by:\n",
    "\n",
    "$ps \\left( k \\right) = \\min_{ 1 \\leq j \\leq k} \\frac{1}{n_{j} \\left( n_{j } - 1 \\right)} \\sum_{i \\neq i' \\in A_{j}} D_j \\left[ C \\left( X_{tr} , k \\right) , X_{te} \\right] _{i i'}$ (**eq 1**)\n",
    "\n",
    "\n",
    "Compute the prediction strength for $k$ = 2 as defined at the beginning. Hint: use **eq 1** with nested loops"
   ]
  },
  {
   "cell_type": "code",
   "execution_count": 96,
   "metadata": {},
   "outputs": [
    {
     "name": "stdout",
     "output_type": "stream",
     "text": [
      "Prediction Strength: 0.9282\n"
     ]
    }
   ],
   "source": [
    "test_labels = model_test.labels_\n",
    "predicted_labels = model_train.predict(test)\n",
    "\n",
    "scores = []\n",
    "\n",
    "for k in np.unique(predicted_clusters):\n",
    "    test_k = test[test_labels == k].tolist()\n",
    "    predicted_k = predicted_labels[test_labels==k]\n",
    "    \n",
    "    score = 0\n",
    "    for val1, predicted_cluster1 in zip(test_k, predicted_k):\n",
    "        for val2, predicted_cluster2 in zip(test_k, predicted_k):\n",
    "            if tuple(val1) != tuple(val2) and predicted_cluster1 == predicted_cluster2:\n",
    "                score += 1\n",
    "    scores.append(score / ((len(test_k)) * (len(test_k) - 1)))\n",
    "prediction_strength = min(scores)\n",
    "\n",
    "print(f\"Prediction Strength: {prediction_strength:.4f}\")"
   ]
  },
  {
   "cell_type": "markdown",
   "metadata": {},
   "source": [
    "### Question 6\n",
    "\n",
    "Write a function that does steps 1 to 5 for any number $k$ of clusters and return the prediction strength or a given $k$ number of clusters. "
   ]
  },
  {
   "cell_type": "code",
   "execution_count": 97,
   "metadata": {},
   "outputs": [],
   "source": [
    "def state_your_prediction_strength(train, test, K):\n",
    "    model_train = KMeans(n_clusters=K)\n",
    "    model_test = KMeans(n_clusters=K)\n",
    "\n",
    "    model_train.fit(train)\n",
    "    model_test.fit(test)\n",
    "    \n",
    "    test_labels = model_test.labels_\n",
    "    predicted_labels = model_train.predict(test)\n",
    "    \n",
    "    scores = []\n",
    "\n",
    "    for k in np.unique(predicted_labels):\n",
    "        test_k = test[test_labels == k]\n",
    "        predicted_k = predicted_labels[test_labels==k]\n",
    "\n",
    "        score = 0\n",
    "        for val1, predicted_cluster1 in zip(test_k, predicted_k):\n",
    "            for val2, predicted_cluster2 in zip(test_k, predicted_k):\n",
    "                if tuple(val1) != tuple(val2) and predicted_cluster1 == predicted_cluster2:\n",
    "                    score += 1\n",
    "        scores.append(score / ((len(test_k)) * (len(test_k) - 1)))\n",
    "    prediction_strength = min(scores)\n",
    "    \n",
    "    return prediction_strength"
   ]
  },
  {
   "cell_type": "markdown",
   "metadata": {},
   "source": [
    "### Question 7\n",
    "\n",
    "Apply this function to $k = 2, \\cdots , 20$."
   ]
  },
  {
   "cell_type": "code",
   "execution_count": 128,
   "metadata": {},
   "outputs": [
    {
     "name": "stdout",
     "output_type": "stream",
     "text": [
      "Completed for 2 clusters in 3.5 seconds\n",
      "Completed for 3 clusters in 2.1 seconds\n",
      "Completed for 4 clusters in 2.0 seconds\n",
      "Completed for 5 clusters in 1.4 seconds\n",
      "Completed for 6 clusters in 1.1 seconds\n",
      "Completed for 7 clusters in 0.9 seconds\n",
      "Completed for 8 clusters in 0.9 seconds\n",
      "Completed for 9 clusters in 0.9 seconds\n",
      "Completed for 10 clusters in 0.8 seconds\n",
      "Completed for 11 clusters in 0.8 seconds\n",
      "Completed for 12 clusters in 0.7 seconds\n",
      "Completed for 13 clusters in 0.7 seconds\n",
      "Completed for 14 clusters in 0.7 seconds\n",
      "Completed for 15 clusters in 0.7 seconds\n",
      "Completed for 16 clusters in 0.6 seconds\n",
      "Completed for 17 clusters in 0.7 seconds\n",
      "Completed for 18 clusters in 0.6 seconds\n",
      "Completed for 19 clusters in 0.6 seconds\n",
      "Completed for 20 clusters in 0.6 seconds\n"
     ]
    }
   ],
   "source": [
    "import time\n",
    "\n",
    "prediction_strengths = []\n",
    "\n",
    "for K in range(2, 21):\n",
    "    start = time.time()\n",
    "    prediction_strengths.append(state_your_prediction_strength(train, test, K))\n",
    "    print(f\"Completed for {K} clusters in {time.time()-start:.1f} seconds\")"
   ]
  },
  {
   "cell_type": "markdown",
   "metadata": {},
   "source": [
    "### Question 8\n",
    "\n",
    "Plot the prediction strength as a function of number of clusters. What is the optimal number of clusters for this dataset?"
   ]
  },
  {
   "cell_type": "code",
   "execution_count": 124,
   "metadata": {},
   "outputs": [
    {
     "data": {
      "text/plain": [
       "(0.0, 1.0)"
      ]
     },
     "execution_count": 124,
     "metadata": {},
     "output_type": "execute_result"
    },
    {
     "data": {
      "image/png": "[encoded data removed]",
      "text/plain": [
       "<Figure size 432x288 with 1 Axes>"
      ]
     },
     "metadata": {
      "needs_background": "light"
     },
     "output_type": "display_data"
    }
   ],
   "source": [
    "plt.rcParams.update({\n",
    "    'font.size': 14\n",
    "})\n",
    "\n",
    "plt.plot(range(2, 21), prediction_strengths, marker='o')\n",
    "plt.title(\"Prediction strengths\")\n",
    "plt.xlabel('Number of Clusters')\n",
    "plt.ylabel('Prediction Strength')\n",
    "plt.ylim([0, 1])"
   ]
  },
  {
   "cell_type": "markdown",
   "metadata": {},
   "source": [
    "As the number of clusters increase, the prediction strength decreases. However, this is not consistent, which might indicate that the peaks in the higher number of clusters might be due to the choice of seed, and can be categorized as noise. The optimal number of cluster seems to be 2, which has the highest prediction strength. Even 6 clusters seem to have a high prediction score."
   ]
  },
  {
   "cell_type": "code",
   "execution_count": null,
   "metadata": {},
   "outputs": [],
   "source": []
  }
 ],
 "metadata": {
  "kernelspec": {
   "display_name": "Python 3",
   "language": "python",
   "name": "python3"
  },
  "language_info": {
   "codemirror_mode": {
    "name": "ipython",
    "version": 3
   },
   "file_extension": ".py",
   "mimetype": "text/x-python",
   "name": "python",
   "nbconvert_exporter": "python",
   "pygments_lexer": "ipython3",
   "version": "3.7.7"
  }
 },
 "nbformat": 4,
 "nbformat_minor": 4
}
